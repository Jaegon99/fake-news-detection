{
 "cells": [
  {
   "cell_type": "code",
   "execution_count": 15,
   "id": "829c9567",
   "metadata": {},
   "outputs": [],
   "source": [
    "import os\n",
    "import random\n",
    "import time\n",
    "import datetime\n",
    "import seaborn as sns\n",
    "import numpy as np\n",
    "import pandas as pd\n",
    "import torch\n",
    "from torch import nn\n",
    "from torch.utils.data import Dataset, DataLoader\n",
    "from torch.optim import AdamW\n",
    "from torch.amp import autocast, GradScaler\n",
    "from sklearn.metrics import (\n",
    "    accuracy_score,\n",
    "    precision_recall_fscore_support,\n",
    ")\n",
    "import matplotlib.pyplot as plt\n",
    "\n",
    "from transformers import (\n",
    "    AutoTokenizer,\n",
    "    BertForSequenceClassification,\n",
    "    get_linear_schedule_with_warmup\n",
    ")\n",
    "\n",
    "from src.plot import plot_bert_evaluation"
   ]
  },
  {
   "cell_type": "code",
   "execution_count": 16,
   "id": "eaf212a7",
   "metadata": {},
   "outputs": [],
   "source": [
    "SEED = 42\n",
    "random.seed(SEED)\n",
    "np.random.seed(SEED)\n",
    "torch.manual_seed(SEED)\n",
    "torch.backends.cudnn.deterministic = True\n",
    "torch.backends.cudnn.benchmark = False\n",
    "os.environ[\"PYTHONHASHSEED\"] = str(SEED)\n"
   ]
  },
  {
   "cell_type": "code",
   "execution_count": 17,
   "id": "828a2405",
   "metadata": {},
   "outputs": [
    {
     "name": "stdout",
     "output_type": "stream",
     "text": [
      "Torch device: NVIDIA GeForce RTX 4070 SUPER\n"
     ]
    }
   ],
   "source": [
    "\n",
    "DEVICE = torch.device(\"cuda\" if torch.cuda.is_available() else \"cpu\")\n",
    "print(f\"Torch device: {torch.cuda.get_device_name(0) if torch.cuda.is_available() else 'CPU'}\")\n",
    "\n",
    "# Hyperparameters\n",
    "MODEL_NAME     = \"bert-base-uncased\"\n",
    "MAX_LEN        = 256\n",
    "BATCH_SIZE     = 16\n",
    "EPOCHS         = 3\n",
    "LR             = 5e-5\n",
    "EPS            = 1e-8\n",
    "NUM_WORKERS    = 4\n",
    "PATIENCE       = 2      # epochs to wait for val improvement\n",
    "WARMUP_RATIO   = 0.1    # warmup ratio for scheduler\n"
   ]
  },
  {
   "cell_type": "code",
   "execution_count": 18,
   "id": "599d9288",
   "metadata": {},
   "outputs": [
    {
     "name": "stdout",
     "output_type": "stream",
     "text": [
      "Train shape: (44184, 2)\n",
      "Val   shape: (9468, 2)\n",
      "Test  shape: (9469, 2)\n"
     ]
    }
   ],
   "source": [
    "DATA_DIR = \"../data/processed/\"\n",
    "MODEL_DIR = \"../models/bert/\"\n",
    "if not os.path.exists(MODEL_DIR):\n",
    "    os.makedirs(MODEL_DIR)\n",
    "\n",
    "\n",
    "train = pd.read_csv(DATA_DIR + \"train.csv\", usecols=[\"raw_text\", \"is_fake\"])\n",
    "val   = pd.read_csv(DATA_DIR + \"val.csv\",   usecols=[\"raw_text\", \"is_fake\"])\n",
    "test  = pd.read_csv(DATA_DIR + \"test.csv\",  usecols=[\"raw_text\", \"is_fake\"])\n",
    "\n",
    "print(f\"Train shape: {train.shape}\")\n",
    "print(f\"Val   shape: {val.shape}\")\n",
    "print(f\"Test  shape: {test.shape}\")"
   ]
  },
  {
   "cell_type": "code",
   "execution_count": 19,
   "id": "73f92db9",
   "metadata": {},
   "outputs": [
    {
     "data": {
      "text/plain": [
       "{'input_ids': tensor([[  101,  2006,  1996,  ...,     0,     0,     0],\n",
       "         [  101,  2300,  3133,  ...,  3258,  1012,   102],\n",
       "         [  101,  2417, 14194,  ...,  2444,  1999,   102],\n",
       "         ...,\n",
       "         [  101,  2728, 18220,  ...,  2428,  4122,   102],\n",
       "         [  101, 16711,  2030,  ...,  2010,  8170,   102],\n",
       "         [  101, 29143,  7593,  ...,  2231,  1055,   102]]),\n",
       " 'attention_mask': tensor([[1, 1, 1,  ..., 0, 0, 0],\n",
       "         [1, 1, 1,  ..., 1, 1, 1],\n",
       "         [1, 1, 1,  ..., 1, 1, 1],\n",
       "         ...,\n",
       "         [1, 1, 1,  ..., 1, 1, 1],\n",
       "         [1, 1, 1,  ..., 1, 1, 1],\n",
       "         [1, 1, 1,  ..., 1, 1, 1]]),\n",
       " 'labels': tensor([1, 0, 1, 0, 0, 1, 1, 0, 0, 0, 0, 1, 1, 1, 0, 0])}"
      ]
     },
     "execution_count": 19,
     "metadata": {},
     "output_type": "execute_result"
    }
   ],
   "source": [
    "tokenizer = AutoTokenizer.from_pretrained(MODEL_NAME)\n",
    "\n",
    "class TextDataset(Dataset):\n",
    "    \"\"\"Dataset wrapping texts & labels for BERT.\"\"\"\n",
    "    def __init__(self, texts, targets, tokenizer, max_len):\n",
    "        self.texts     = texts\n",
    "        self.targets   = targets\n",
    "        self.tokenizer = tokenizer\n",
    "        self.max_len   = max_len\n",
    "\n",
    "    def __len__(self):\n",
    "        return len(self.texts)\n",
    "\n",
    "    def __getitem__(self, idx):\n",
    "        text   = str(self.texts[idx])\n",
    "        label  = int(self.targets[idx])\n",
    "        encoding = self.tokenizer(\n",
    "            text,\n",
    "            add_special_tokens    = True,\n",
    "            max_length            = self.max_len,\n",
    "            padding               = 'max_length',\n",
    "            truncation            = True,\n",
    "            return_attention_mask = True,\n",
    "            return_tensors        = 'pt'\n",
    "        )\n",
    "        return {\n",
    "            'input_ids'     : encoding['input_ids'].squeeze(),\n",
    "            'attention_mask': encoding['attention_mask'].squeeze(),\n",
    "            'labels'        : torch.tensor(label, dtype=torch.long)\n",
    "        }\n",
    "\n",
    "\n",
    "train_ds = TextDataset(\n",
    "    train.raw_text.values,\n",
    "    train.is_fake.values,\n",
    "    tokenizer, MAX_LEN\n",
    ")\n",
    "val_ds   = TextDataset(\n",
    "    val.raw_text.values,\n",
    "    val.is_fake.values,\n",
    "    tokenizer, MAX_LEN\n",
    ")\n",
    "test_ds  = TextDataset(\n",
    "    test.raw_text.values,\n",
    "    test.is_fake.values,\n",
    "    tokenizer, MAX_LEN\n",
    ")\n",
    "\n",
    "train_loader = DataLoader(\n",
    "    train_ds, batch_size=BATCH_SIZE, shuffle=True\n",
    ")\n",
    "val_loader = DataLoader(\n",
    "    val_ds, batch_size=BATCH_SIZE, shuffle=False\n",
    ")\n",
    "test_loader = DataLoader(\n",
    "    test_ds, batch_size=BATCH_SIZE, shuffle=False\n",
    ")\n",
    "\n",
    "next(iter(train_loader))"
   ]
  },
  {
   "cell_type": "code",
   "execution_count": 20,
   "id": "6acf04d2",
   "metadata": {},
   "outputs": [
    {
     "name": "stderr",
     "output_type": "stream",
     "text": [
      "Some weights of BertForSequenceClassification were not initialized from the model checkpoint at bert-base-uncased and are newly initialized: ['classifier.bias', 'classifier.weight']\n",
      "You should probably TRAIN this model on a down-stream task to be able to use it for predictions and inference.\n"
     ]
    }
   ],
   "source": [
    "model = BertForSequenceClassification.from_pretrained(\n",
    "    MODEL_NAME, num_labels=2,\n",
    "    output_attentions = False,\n",
    "    output_hidden_states = False,\n",
    ").to(DEVICE)\n",
    "\n",
    "optimizer = AdamW(model.parameters(), lr=LR, eps=EPS)\n",
    "\n",
    "# Scheduler: linear warmup then decay\n",
    "total_steps = len(train_loader) * EPOCHS\n",
    "warmup_steps = int(WARMUP_RATIO * total_steps)\n",
    "scheduler = get_linear_schedule_with_warmup(\n",
    "    optimizer, num_warmup_steps=warmup_steps,\n",
    "    num_training_steps=total_steps\n",
    ")\n",
    "\n",
    "# For mixed-precision training\n",
    "scaler = GradScaler()"
   ]
  },
  {
   "cell_type": "code",
   "execution_count": 21,
   "id": "ac5ef540",
   "metadata": {},
   "outputs": [],
   "source": [
    "def format_time(elapsed):\n",
    "    return str(datetime.timedelta(seconds=int(elapsed)))\n",
    "\n",
    "def train_epoch(model, loader, optimizer, scheduler, scaler, device):\n",
    "    model.train()\n",
    "    losses, all_preds, all_labels = [], [], []\n",
    "    t0 = time.time()\n",
    "\n",
    "    for step, batch in enumerate(loader, 1):\n",
    "        if step % 100 == 0 or step == len(loader):\n",
    "            print(f\"  Batch {step}/{len(loader)} — \"\n",
    "                  f\"loss: {np.mean(losses):.4f} — \"\n",
    "                  f\"elapsed: {format_time(time.time()-t0)}\")\n",
    "        \n",
    "        \n",
    "        input_ids      = batch['input_ids'].to(device)\n",
    "        attention_mask = batch['attention_mask'].to(device)\n",
    "        labels         = batch['labels'].to(device)\n",
    "\n",
    "        optimizer.zero_grad()\n",
    "        with autocast(device_type=device.type):\n",
    "            outputs = model(\n",
    "                input_ids,\n",
    "                token_type_ids=None,\n",
    "                attention_mask=attention_mask, \n",
    "                labels=labels\n",
    "            )\n",
    "            loss = outputs.loss\n",
    "\n",
    "        scaler.scale(loss).backward()\n",
    "        scaler.step(optimizer)\n",
    "        scaler.update()\n",
    "        scheduler.step()\n",
    "\n",
    "        losses.append(loss.item())\n",
    "        preds = torch.argmax(outputs.logits, dim=1).cpu().numpy()\n",
    "        all_preds.extend(preds)\n",
    "        all_labels.extend(labels.cpu().numpy())\n",
    "\n",
    "        \n",
    "    metrics = precision_recall_fscore_support(\n",
    "        all_labels, all_preds, average='binary'\n",
    "    )\n",
    "    acc = accuracy_score(all_labels, all_preds)\n",
    "    \n",
    "    return np.mean(losses), acc, *metrics[:3]\n",
    "\n",
    "def eval_epoch(model, loader, device):\n",
    "    model.eval()\n",
    "    losses, all_preds, all_labels = [], [], []\n",
    "    t0 = time.time()\n",
    "\n",
    "    with torch.no_grad():\n",
    "        for batch in loader:\n",
    "            input_ids     = batch['input_ids'].to(device)\n",
    "            attention_mask= batch['attention_mask'].to(device)\n",
    "            labels        = batch['labels'].to(device)\n",
    "\n",
    "            with autocast(device_type=device.type):\n",
    "                outputs = model(\n",
    "                    input_ids, \n",
    "                    attention_mask=attention_mask, \n",
    "                    labels=labels\n",
    "                )\n",
    "                loss = outputs.loss\n",
    "\n",
    "            losses.append(loss.item())\n",
    "            preds = torch.argmax(outputs.logits, dim=1).cpu().numpy()\n",
    "            all_preds.extend(preds)\n",
    "            all_labels.extend(labels.cpu().numpy())\n",
    "\n",
    "    acc = accuracy_score(all_labels, all_preds)\n",
    "    prec, rec, f1, _ = precision_recall_fscore_support(\n",
    "        all_labels, all_preds, average='binary'\n",
    "    )\n",
    "    print(f\"  Eval — loss: {np.mean(losses):.4f} — acc: {acc:.4f} — \"\n",
    "          f\"f1: {f1:.4f} — time: {format_time(time.time()-t0)}\")\n",
    "    return np.mean(losses), acc, prec, rec, f1\n"
   ]
  },
  {
   "cell_type": "code",
   "execution_count": null,
   "id": "a9b2bf6f",
   "metadata": {},
   "outputs": [
    {
     "name": "stdout",
     "output_type": "stream",
     "text": [
      "\n",
      "=== Epoch 1/3 ===\n",
      "  Batch 100/2762 — loss: 0.6255 — elapsed: 0:00:11\n",
      "  Batch 200/2762 — loss: 0.4410 — elapsed: 0:00:22\n",
      "  Batch 300/2762 — loss: 0.3315 — elapsed: 0:00:32\n",
      "  Batch 400/2762 — loss: 0.2659 — elapsed: 0:00:43\n",
      "  Batch 500/2762 — loss: 0.2254 — elapsed: 0:00:53\n",
      "  Batch 600/2762 — loss: 0.1950 — elapsed: 0:01:03\n",
      "  Batch 700/2762 — loss: 0.1759 — elapsed: 0:01:14\n",
      "  Batch 800/2762 — loss: 0.1611 — elapsed: 0:01:24\n",
      "  Batch 900/2762 — loss: 0.1523 — elapsed: 0:01:35\n",
      "  Batch 1000/2762 — loss: 0.1449 — elapsed: 0:01:45\n",
      "  Batch 1100/2762 — loss: 0.1356 — elapsed: 0:01:56\n",
      "  Batch 1200/2762 — loss: 0.1287 — elapsed: 0:02:06\n",
      "  Batch 1300/2762 — loss: 0.1222 — elapsed: 0:02:17\n",
      "  Batch 1400/2762 — loss: 0.1169 — elapsed: 0:02:27\n",
      "  Batch 1500/2762 — loss: 0.1116 — elapsed: 0:02:37\n",
      "  Batch 1600/2762 — loss: 0.1076 — elapsed: 0:02:48\n",
      "  Batch 1700/2762 — loss: 0.1046 — elapsed: 0:02:58\n",
      "  Batch 1800/2762 — loss: 0.1005 — elapsed: 0:03:09\n",
      "  Batch 1900/2762 — loss: 0.0965 — elapsed: 0:03:19\n",
      "  Batch 2000/2762 — loss: 0.0932 — elapsed: 0:03:29\n",
      "  Batch 2100/2762 — loss: 0.0905 — elapsed: 0:03:40\n",
      "  Batch 2200/2762 — loss: 0.0884 — elapsed: 0:03:50\n",
      "  Batch 2300/2762 — loss: 0.0867 — elapsed: 0:04:01\n",
      "  Batch 2400/2762 — loss: 0.0859 — elapsed: 0:04:11\n",
      "  Batch 2500/2762 — loss: 0.0837 — elapsed: 0:04:21\n",
      "  Batch 2600/2762 — loss: 0.0819 — elapsed: 0:04:32\n",
      "  Batch 2700/2762 — loss: 0.0803 — elapsed: 0:04:43\n",
      "  Batch 2762/2762 — loss: 0.0793 — elapsed: 0:04:49\n",
      "→ Train — loss: 0.0793, acc: 0.9674, f1: 0.9637\n",
      "  Eval — loss: 0.0249 — acc: 0.9917 — f1: 0.9907 — time: 0:00:23\n",
      "  *** New best model saved\n",
      "\n",
      "=== Epoch 2/3 ===\n",
      "  Batch 100/2762 — loss: 0.0191 — elapsed: 0:00:11\n",
      "  Batch 200/2762 — loss: 0.0175 — elapsed: 0:00:22\n",
      "  Batch 300/2762 — loss: 0.0155 — elapsed: 0:00:33\n",
      "  Batch 400/2762 — loss: 0.0158 — elapsed: 0:00:45\n",
      "  Batch 500/2762 — loss: 0.0146 — elapsed: 0:00:56\n",
      "  Batch 600/2762 — loss: 0.0162 — elapsed: 0:01:07\n",
      "  Batch 700/2762 — loss: 0.0165 — elapsed: 0:01:18\n",
      "  Batch 800/2762 — loss: 0.0180 — elapsed: 0:01:30\n",
      "  Batch 900/2762 — loss: 0.0189 — elapsed: 0:01:41\n",
      "  Batch 1000/2762 — loss: 0.0189 — elapsed: 0:01:52\n",
      "  Batch 1100/2762 — loss: 0.0181 — elapsed: 0:02:03\n",
      "  Batch 1200/2762 — loss: 0.0185 — elapsed: 0:02:14\n",
      "  Batch 1300/2762 — loss: 0.0180 — elapsed: 0:02:25\n",
      "  Batch 1400/2762 — loss: 0.0175 — elapsed: 0:02:36\n",
      "  Batch 1500/2762 — loss: 0.0175 — elapsed: 0:02:48\n",
      "  Batch 1600/2762 — loss: 0.0177 — elapsed: 0:02:59\n",
      "  Batch 1700/2762 — loss: 0.0174 — elapsed: 0:03:10\n",
      "  Batch 1800/2762 — loss: 0.0182 — elapsed: 0:03:21\n",
      "  Batch 1900/2762 — loss: 0.0179 — elapsed: 0:03:32\n",
      "  Batch 2000/2762 — loss: 0.0190 — elapsed: 0:03:44\n",
      "  Batch 2100/2762 — loss: 0.0192 — elapsed: 0:03:55\n",
      "  Batch 2200/2762 — loss: 0.0197 — elapsed: 0:04:06\n",
      "  Batch 2300/2762 — loss: 0.0193 — elapsed: 0:04:17\n",
      "  Batch 2400/2762 — loss: 0.0191 — elapsed: 0:04:28\n",
      "  Batch 2500/2762 — loss: 0.0192 — elapsed: 0:04:40\n",
      "  Batch 2600/2762 — loss: 0.0190 — elapsed: 0:04:51\n",
      "  Batch 2700/2762 — loss: 0.0187 — elapsed: 0:05:02\n",
      "  Batch 2762/2762 — loss: 0.0186 — elapsed: 0:05:09\n",
      "→ Train — loss: 0.0186, acc: 0.9936, f1: 0.9929\n",
      "  Eval — loss: 0.0181 — acc: 0.9928 — f1: 0.9920 — time: 0:00:25\n",
      "  *** New best model saved\n",
      "\n",
      "=== Epoch 3/3 ===\n",
      "  Batch 100/2762 — loss: 0.0037 — elapsed: 0:00:11\n",
      "  Batch 200/2762 — loss: 0.0038 — elapsed: 0:00:22\n",
      "  Batch 300/2762 — loss: 0.0042 — elapsed: 0:00:33\n",
      "  Batch 400/2762 — loss: 0.0049 — elapsed: 0:00:44\n",
      "  Batch 500/2762 — loss: 0.0071 — elapsed: 0:00:56\n",
      "  Batch 600/2762 — loss: 0.0065 — elapsed: 0:01:07\n",
      "  Batch 700/2762 — loss: 0.0064 — elapsed: 0:01:18\n",
      "  Batch 800/2762 — loss: 0.0063 — elapsed: 0:01:30\n",
      "  Batch 900/2762 — loss: 0.0062 — elapsed: 0:01:41\n",
      "  Batch 1000/2762 — loss: 0.0057 — elapsed: 0:01:52\n",
      "  Batch 1100/2762 — loss: 0.0053 — elapsed: 0:02:03\n",
      "  Batch 1200/2762 — loss: 0.0059 — elapsed: 0:02:14\n",
      "  Batch 1300/2762 — loss: 0.0058 — elapsed: 0:02:26\n",
      "  Batch 1400/2762 — loss: 0.0055 — elapsed: 0:02:37\n",
      "  Batch 1500/2762 — loss: 0.0055 — elapsed: 0:02:48\n",
      "  Batch 1600/2762 — loss: 0.0052 — elapsed: 0:02:59\n",
      "  Batch 1700/2762 — loss: 0.0051 — elapsed: 0:03:10\n",
      "  Batch 1800/2762 — loss: 0.0051 — elapsed: 0:03:21\n",
      "  Batch 1900/2762 — loss: 0.0049 — elapsed: 0:03:33\n",
      "  Batch 2000/2762 — loss: 0.0049 — elapsed: 0:03:44\n",
      "  Batch 2100/2762 — loss: 0.0047 — elapsed: 0:03:55\n",
      "  Batch 2200/2762 — loss: 0.0047 — elapsed: 0:04:06\n",
      "  Batch 2300/2762 — loss: 0.0047 — elapsed: 0:04:18\n",
      "  Batch 2400/2762 — loss: 0.0048 — elapsed: 0:04:29\n",
      "  Batch 2500/2762 — loss: 0.0047 — elapsed: 0:04:40\n",
      "  Batch 2600/2762 — loss: 0.0045 — elapsed: 0:04:51\n",
      "  Batch 2700/2762 — loss: 0.0046 — elapsed: 0:05:02\n",
      "  Batch 2762/2762 — loss: 0.0046 — elapsed: 0:05:09\n",
      "→ Train — loss: 0.0046, acc: 0.9985, f1: 0.9983\n",
      "  Eval — loss: 0.0219 — acc: 0.9942 — f1: 0.9935 — time: 0:00:25\n",
      "\n",
      "Training complete. Best epoch: 2\n"
     ]
    }
   ],
   "source": [
    "best_val_loss = float('inf')\n",
    "best_epoch    = 0\n",
    "training_stats = []\n",
    "\n",
    "for epoch in range(1, EPOCHS+1):\n",
    "    print(f\"\\n=== Epoch {epoch}/{EPOCHS} ===\")\n",
    "    \n",
    "    train_loss, train_acc, train_prec, train_rec, train_f1 = \\\n",
    "        train_epoch(model, train_loader, optimizer, scheduler, scaler, DEVICE)\n",
    "    print(f\"→ Train — loss: {train_loss:.4f}, acc: {train_acc:.4f}, f1: {train_f1:.4f}\")\n",
    "    \n",
    "    val_loss, val_acc, val_prec, val_rec, val_f1 = \\\n",
    "        eval_epoch(model, val_loader, DEVICE)\n",
    "    \n",
    "    training_stats.append({\n",
    "        'epoch': epoch,\n",
    "        'train_loss': train_loss,\n",
    "        'train_acc' : train_acc,\n",
    "        'train_f1'  : train_f1,\n",
    "        'val_loss'  : val_loss,\n",
    "        'val_acc'   : val_acc,\n",
    "        'val_f1'    : val_f1\n",
    "    })\n",
    "    \n",
    "    # Early stopping check\n",
    "    if val_loss < best_val_loss:\n",
    "        best_val_loss = val_loss\n",
    "        best_epoch    = epoch\n",
    "        torch.save(model.state_dict(), '../models/bert/best_model.pt')\n",
    "        print(\"  *** New best model saved\")\n",
    "    elif epoch - best_epoch >= PATIENCE:\n",
    "        print(f\"Stopping early (epoch {epoch})\")\n",
    "        break\n",
    "\n",
    "print(f\"\\nTraining complete. Best epoch: {best_epoch}\")"
   ]
  },
  {
   "cell_type": "code",
   "execution_count": 23,
   "id": "26893e42",
   "metadata": {},
   "outputs": [
    {
     "name": "stdout",
     "output_type": "stream",
     "text": [
      "\n",
      "--- Test Metrics ---\n",
      "Accuracy :  0.9920\n",
      "Precision: 0.9969  Recall: 0.9852  F1: 0.9910\n",
      "ROC‐AUC  : 0.9998\n",
      "\n"
     ]
    },
    {
     "data": {
      "image/png": "[encoded data removed]",
      "text/plain": [
       "<Figure size 640x480 with 1 Axes>"
      ]
     },
     "metadata": {},
     "output_type": "display_data"
    },
    {
     "data": {
      "image/png": "[encoded data removed]",
      "text/plain": [
       "<Figure size 400x400 with 2 Axes>"
      ]
     },
     "metadata": {},
     "output_type": "display_data"
    }
   ],
   "source": [
    "model.load_state_dict(torch.load(MODEL_DIR + \"best_model.pt\"))\n",
    "plot_bert_evaluation(\"Test\", model, test_loader, DEVICE)"
   ]
  },
  {
   "cell_type": "code",
   "execution_count": 24,
   "id": "6fa160b6",
   "metadata": {},
   "outputs": [
    {
     "name": "stdout",
     "output_type": "stream",
     "text": [
      "Combined external shape: (44898, 3)\n",
      "<class 'pandas.core.frame.DataFrame'>\n",
      "RangeIndex: 39105 entries, 0 to 39104\n",
      "Data columns (total 6 columns):\n",
      " #   Column          Non-Null Count  Dtype \n",
      "---  ------          --------------  ----- \n",
      " 0   title           39105 non-null  object\n",
      " 1   text            39105 non-null  object\n",
      " 2   is_fake         39105 non-null  int32 \n",
      " 3   raw_text        39105 non-null  object\n",
      " 4   clean_text      39105 non-null  object\n",
      " 5   processed_text  39105 non-null  object\n",
      "dtypes: int32(1), object(5)\n",
      "memory usage: 1.6+ MB\n"
     ]
    }
   ],
   "source": [
    "# External data path\n",
    "REAL_CSV  = \"../data/external/True.csv\"\n",
    "FAKE_CSV  = \"../data/external/Fake.csv\"\n",
    "\n",
    "# Load external CSV and combine into a single dataframe\n",
    "real_news = pd.read_csv(REAL_CSV)\n",
    "real_news[\"is_fake\"] = 0\n",
    "\n",
    "fake_news = pd.read_csv(FAKE_CSV)\n",
    "fake_news[\"is_fake\"] = 1\n",
    "\n",
    "# Keep only the required columns\n",
    "real_news = real_news[[\"title\", \"text\", \"is_fake\"]]\n",
    "fake_news = fake_news[[\"title\", \"text\", \"is_fake\"]]\n",
    "\n",
    "# Combine and shuffle the external dataframe\n",
    "external = pd.concat([real_news, fake_news], ignore_index=True)\n",
    "external = external.sample(frac=1, random_state=SEED).reset_index(drop=True)\n",
    "print(\"Combined external shape:\", external.shape)\n",
    "\n",
    "external.head()\n",
    "\n",
    "from src.utils import basic_clean, preprocess_text\n",
    "\n",
    "external[\"raw_text\"] = external[\"title\"].astype(str) + \" \" + external[\"text\"].astype(str)\n",
    "external[\"clean_text\"] = external[\"raw_text\"].apply(basic_clean)\n",
    "external[\"processed_text\"] = external[\"clean_text\"].apply(preprocess_text)\n",
    "external[\"is_fake\"] = external[\"is_fake\"].astype(int)\n",
    "\n",
    "# Clean the external data\n",
    "external.dropna(inplace=True)\n",
    "external.drop_duplicates(inplace=True)\n",
    "external.reset_index(drop=True, inplace=True)\n",
    "external.info()"
   ]
  },
  {
   "cell_type": "code",
   "execution_count": 25,
   "id": "68f1a8ff",
   "metadata": {},
   "outputs": [
    {
     "name": "stdout",
     "output_type": "stream",
     "text": [
      "Number of external batches: 2445\n"
     ]
    }
   ],
   "source": [
    "ext_dataset = TextDataset(\n",
    "    external.raw_text.values,\n",
    "    external.is_fake.values,\n",
    "    tokenizer, MAX_LEN\n",
    ")\n",
    "ext_loader = DataLoader(\n",
    "    ext_dataset,\n",
    "    batch_size=BATCH_SIZE,\n",
    "    shuffle=False\n",
    ")\n",
    "print(f\"Number of external batches: {len(ext_loader)}\")"
   ]
  },
  {
   "cell_type": "code",
   "execution_count": 26,
   "id": "56a3e565",
   "metadata": {},
   "outputs": [
    {
     "name": "stdout",
     "output_type": "stream",
     "text": [
      "\n",
      "--- External Metrics ---\n",
      "Accuracy :  0.9993\n",
      "Precision: 1.0000  Recall: 0.9984  F1: 0.9992\n",
      "ROC‐AUC  : 1.0000\n",
      "\n"
     ]
    },
    {
     "data": {
      "image/png": "[encoded data removed]",
      "text/plain": [
       "<Figure size 640x480 with 1 Axes>"
      ]
     },
     "metadata": {},
     "output_type": "display_data"
    },
    {
     "data": {
      "image/png": "[encoded data removed]",
      "text/plain": [
       "<Figure size 400x400 with 2 Axes>"
      ]
     },
     "metadata": {},
     "output_type": "display_data"
    }
   ],
   "source": [
    "plot_bert_evaluation(\"External\", model, ext_loader, DEVICE)"
   ]
  }
 ],
 "metadata": {
  "kernelspec": {
   "display_name": ".venv",
   "language": "python",
   "name": "python3"
  },
  "language_info": {
   "codemirror_mode": {
    "name": "ipython",
    "version": 3
   },
   "file_extension": ".py",
   "mimetype": "text/x-python",
   "name": "python",
   "nbconvert_exporter": "python",
   "pygments_lexer": "ipython3",
   "version": "3.12.3"
  }
 },
 "nbformat": 4,
 "nbformat_minor": 5
}
