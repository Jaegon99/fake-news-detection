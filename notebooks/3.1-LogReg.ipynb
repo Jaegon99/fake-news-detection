{
 "cells": [
  {
   "cell_type": "code",
   "execution_count": 1,
   "id": "f1ea0907",
   "metadata": {},
   "outputs": [],
   "source": [
    "import sys\n",
    "import os\n",
    "from pathlib import Path\n",
    "import random\n",
    "import numpy as np\n",
    "import pandas as pd\n",
    "import joblib\n",
    "from scipy import sparse\n",
    "from sklearn.preprocessing import StandardScaler\n",
    "from sklearn.feature_extraction.text import TfidfVectorizer\n",
    "from sklearn.linear_model import LogisticRegression\n",
    "from sklearn.model_selection import GridSearchCV, PredefinedSplit\n",
    "from gensim import corpora\n",
    "from gensim.models import LdaModel"
   ]
  },
  {
   "cell_type": "code",
   "execution_count": 2,
   "id": "8ad57560",
   "metadata": {},
   "outputs": [],
   "source": [
    "src_path = str((Path.cwd().parent / 'src').resolve())\n",
    "if src_path not in sys.path:\n",
    "    sys.path.append(src_path)\n",
    "\n",
    "from src.utils import get_features\n",
    "from src.plot import plot_logreg_evaluation"
   ]
  },
  {
   "cell_type": "code",
   "execution_count": 3,
   "id": "fdc083a7",
   "metadata": {},
   "outputs": [],
   "source": [
    "# Reproducibility\n",
    "SEED = 42\n",
    "random.seed(SEED)\n",
    "np.random.seed(SEED)"
   ]
  },
  {
   "cell_type": "code",
   "execution_count": 4,
   "id": "b836c54d",
   "metadata": {},
   "outputs": [
    {
     "name": "stdout",
     "output_type": "stream",
     "text": [
      "Train shape (with features): (44145, 3)\n",
      "Val   shape (with features): (9461, 3)\n",
      "Test  shape (with features): (9466, 3)\n"
     ]
    }
   ],
   "source": [
    "DATA_DIR = \"../data/processed/\"\n",
    "MODEL_DIR = \"../models/log_reg/\"\n",
    "if not os.path.exists(MODEL_DIR):\n",
    "    os.makedirs(MODEL_DIR)\n",
    "\n",
    "train = pd.read_csv(DATA_DIR + \"train.csv\")\n",
    "val   = pd.read_csv(DATA_DIR + \"val.csv\")\n",
    "test  = pd.read_csv(DATA_DIR + \"test.csv\")\n",
    "\n",
    "# Drop any rows with missing values just in case\n",
    "train.dropna(inplace=True), val.dropna(inplace=True), test.dropna(inplace=True)\n",
    "\n",
    "# Separate labels\n",
    "y_train, y_val, y_test = train.pop(\"is_fake\"), val.pop(\"is_fake\"), test.pop(\"is_fake\")\n",
    "\n",
    "print(f\"Train shape (with features): {train.shape}\")\n",
    "print(f\"Val   shape (with features): {val.shape}\")\n",
    "print(f\"Test  shape (with features): {test.shape}\")"
   ]
  },
  {
   "cell_type": "code",
   "execution_count": 5,
   "id": "001a2d5d",
   "metadata": {},
   "outputs": [
    {
     "name": "stdout",
     "output_type": "stream",
     "text": [
      "Scaled numeric features shape: train (44145, 7), val (9461, 7), test (9466, 7)\n"
     ]
    },
    {
     "data": {
      "text/plain": [
       "['../models/log_reg/scaler.joblib']"
      ]
     },
     "execution_count": 5,
     "metadata": {},
     "output_type": "execute_result"
    }
   ],
   "source": [
    "features_columns = [\n",
    "    \"word_count\", \"char_count\", \"avg_word_length\",\n",
    "    \"polarity\", \"subjectivity\", \"reading_ease\", \"smog_index\"\n",
    "]\n",
    "\n",
    "scaler = StandardScaler()\n",
    "# get_features() returns a DataFrame with features_columns added to the split\n",
    "X_train_feats = scaler.fit_transform(get_features(train)[features_columns])\n",
    "X_val_feats = scaler.transform(get_features(val)[features_columns])\n",
    "X_test_feats = scaler.transform(get_features(test)[features_columns])\n",
    "\n",
    "print(f\"Scaled numeric features shape: train {X_train_feats.shape}, val {X_val_feats.shape}, test {X_test_feats.shape}\")\n",
    "joblib.dump(scaler, MODEL_DIR + \"scaler.joblib\")"
   ]
  },
  {
   "cell_type": "code",
   "execution_count": 6,
   "id": "ce1f49bc",
   "metadata": {},
   "outputs": [
    {
     "name": "stdout",
     "output_type": "stream",
     "text": [
      "Saved TF–IDF Vectorizer to '../models/log_reg/tfidf_vectorizer.joblib\n",
      "TF–IDF shapes: train (44145, 5000), val (9461, 5000), test (9466, 5000)\n"
     ]
    }
   ],
   "source": [
    "tfidf = TfidfVectorizer(\n",
    "    ngram_range=(1, 2),\n",
    "    min_df=5,\n",
    "    max_df=0.8,\n",
    "    sublinear_tf=True,\n",
    "    max_features=5000\n",
    ")\n",
    "\n",
    "X_train_tfidf = tfidf.fit_transform(train[\"processed_text\"])\n",
    "X_val_tfidf = tfidf.transform(val[\"processed_text\"])\n",
    "X_test_tfidf = tfidf.transform(test[\"processed_text\"])\n",
    "\n",
    "joblib.dump(tfidf, MODEL_DIR + \"tfidf_vectorizer.joblib\")\n",
    "\n",
    "print(f\"Saved TF–IDF Vectorizer to '{MODEL_DIR}tfidf_vectorizer.joblib\")\n",
    "print(f\"TF–IDF shapes: train {X_train_tfidf.shape}, val {X_val_tfidf.shape}, test {X_test_tfidf.shape}\")"
   ]
  },
  {
   "cell_type": "code",
   "execution_count": 7,
   "id": "0fbff687",
   "metadata": {},
   "outputs": [
    {
     "name": "stdout",
     "output_type": "stream",
     "text": [
      "LDA dictionary saved: 10000 tokens\n"
     ]
    }
   ],
   "source": [
    "# Build Gensim Dictionary & Corpus on training split\n",
    "processed_texts = [txt.split() for txt in train[\"processed_text\"]]\n",
    "id2word = corpora.Dictionary(processed_texts)\n",
    "id2word.filter_extremes(no_below=5, no_above=0.5, keep_n=10000)\n",
    "id2word.save(MODEL_DIR + \"lda_dictionary.dict\")\n",
    "print(f\"LDA dictionary saved: {len(id2word)} tokens\")\n",
    "\n",
    "bow_train = [id2word.doc2bow(text) for text in processed_texts]\n",
    "bow_val = [id2word.doc2bow(txt.split()) for txt in val[\"processed_text\"]]\n",
    "bow_test = [id2word.doc2bow(txt.split()) for txt in test[\"processed_text\"]]"
   ]
  },
  {
   "cell_type": "code",
   "execution_count": 8,
   "id": "c35b6962",
   "metadata": {},
   "outputs": [
    {
     "name": "stdout",
     "output_type": "stream",
     "text": [
      "Trained LDA model with 24 topics\n"
     ]
    }
   ],
   "source": [
    "# Train LDA model\n",
    "best_k = 24  # chosen from coherence tuning\n",
    "lda = LdaModel(\n",
    "    corpus=bow_train,\n",
    "    id2word=id2word,\n",
    "    num_topics=best_k,\n",
    "    passes=15,\n",
    "    random_state=SEED,\n",
    "    chunksize=2000,\n",
    "    alpha=\"auto\",\n",
    "    per_word_topics=False\n",
    ")\n",
    "lda.save(MODEL_DIR + \"lda_model.model\")\n",
    "print(f\"Trained LDA model with {best_k} topics\")"
   ]
  },
  {
   "cell_type": "code",
   "execution_count": 9,
   "id": "3d6f3ded",
   "metadata": {},
   "outputs": [
    {
     "name": "stdout",
     "output_type": "stream",
     "text": [
      "LDA topic distributions shape: train (44145, 24), val (9461, 24), test (9466, 24)\n"
     ]
    }
   ],
   "source": [
    "def get_topic_dist(model, bow_corpus, num_topics):\n",
    "    \"\"\"\n",
    "    For each document in bow_corpus, returns a vector of length num_topics\n",
    "    containing the probability of each topic for that document.\n",
    "    \"\"\"\n",
    "    arr = np.zeros((len(bow_corpus), num_topics), dtype=np.float32)\n",
    "    for i, bow in enumerate(bow_corpus):\n",
    "        for topic_id, prob in model.get_document_topics(bow, minimum_probability=0.0):\n",
    "            arr[i, topic_id] = prob\n",
    "    return arr\n",
    "\n",
    "X_train_lda = get_topic_dist(lda, bow_train, best_k)\n",
    "X_val_lda = get_topic_dist(lda, bow_val, best_k)\n",
    "X_test_lda = get_topic_dist(lda, bow_test, best_k)\n",
    "\n",
    "print(f\"LDA topic distributions shape: train {X_train_lda.shape}, val {X_val_lda.shape}, test {X_test_lda.shape}\")"
   ]
  },
  {
   "cell_type": "code",
   "execution_count": 10,
   "id": "1d080d4d",
   "metadata": {},
   "outputs": [],
   "source": [
    "# Concatenating TF–IDF, LDA, and numeric features into final matrices\n",
    "X_train = sparse.hstack([\n",
    "    X_train_tfidf,\n",
    "    sparse.csr_matrix(X_train_lda),\n",
    "    sparse.csr_matrix(X_train_feats)\n",
    "])\n",
    "X_val = sparse.hstack([\n",
    "    X_val_tfidf,\n",
    "    sparse.csr_matrix(X_val_lda),\n",
    "    sparse.csr_matrix(X_val_feats)\n",
    "])\n",
    "X_test = sparse.hstack([\n",
    "    X_test_tfidf,\n",
    "    sparse.csr_matrix(X_test_lda),\n",
    "    sparse.csr_matrix(X_test_feats)\n",
    "])"
   ]
  },
  {
   "cell_type": "code",
   "execution_count": 11,
   "id": "ad5208ec",
   "metadata": {},
   "outputs": [
    {
     "name": "stdout",
     "output_type": "stream",
     "text": [
      "Fitting 1 folds for each of 4 candidates, totalling 4 fits\n",
      "Best hyperparameter C: 10.0\n",
      "Best validation ROC-AUC: 0.9935\n"
     ]
    }
   ],
   "source": [
    "# Stack train + val for tuning\n",
    "X_tune = sparse.vstack([X_train, X_val])\n",
    "y_tune = np.concatenate([y_train, y_val])\n",
    "\n",
    "# PredefinedSplit: train indices = -1, val indices = 0\n",
    "test_fold = np.array([-1] * X_train.shape[0] + [0] * X_val.shape[0])\n",
    "ps = PredefinedSplit(test_fold)\n",
    "\n",
    "base_lr = LogisticRegression(\n",
    "    solver=\"saga\",\n",
    "    class_weight=\"balanced\",\n",
    "    max_iter=5000,\n",
    "    random_state=SEED,\n",
    "    n_jobs=-1\n",
    ")\n",
    "\n",
    "param_grid = {\"C\": [0.01, 0.1, 1.0, 10.0]}\n",
    "grid = GridSearchCV(\n",
    "    estimator=base_lr,\n",
    "    param_grid=param_grid,\n",
    "    cv=ps,\n",
    "    scoring=\"roc_auc\",\n",
    "    n_jobs=-1,\n",
    "    verbose=1\n",
    ")\n",
    "\n",
    "grid.fit(X_tune, y_tune)\n",
    "print(f\"Best hyperparameter C: {grid.best_params_['C']}\")\n",
    "print(f\"Best validation ROC-AUC: {grid.best_score_:.4f}\")"
   ]
  },
  {
   "cell_type": "code",
   "execution_count": 12,
   "id": "fb32b8cc",
   "metadata": {},
   "outputs": [
    {
     "name": "stdout",
     "output_type": "stream",
     "text": [
      "Saved final Logistic Regression model to 'logreg_model.joblib'\n"
     ]
    }
   ],
   "source": [
    "# retrain on full train+val\n",
    "best_C = grid.best_params_[\"C\"]\n",
    "final_lr = LogisticRegression(\n",
    "    solver=\"saga\",\n",
    "    penalty=\"l2\",\n",
    "    C=best_C,\n",
    "    class_weight=\"balanced\",\n",
    "    max_iter=5000,\n",
    "    random_state=SEED,\n",
    "    n_jobs=-1\n",
    ")\n",
    "final_lr.fit(X_tune, y_tune)\n",
    "joblib.dump(final_lr, MODEL_DIR + \"logreg_model.joblib\")\n",
    "print(\"Saved final Logistic Regression model to 'logreg_model.joblib'\")"
   ]
  },
  {
   "cell_type": "code",
   "execution_count": 13,
   "id": "a76cd028",
   "metadata": {},
   "outputs": [
    {
     "name": "stdout",
     "output_type": "stream",
     "text": [
      "\n",
      "--- Test Results ---\n",
      "              precision    recall  f1-score   support\n",
      "\n",
      "        real       0.97      0.96      0.97      5219\n",
      "        fake       0.95      0.96      0.96      4247\n",
      "\n",
      "    accuracy                           0.96      9466\n",
      "   macro avg       0.96      0.96      0.96      9466\n",
      "weighted avg       0.96      0.96      0.96      9466\n",
      "\n",
      "ROC-AUC: 0.9932\n"
     ]
    },
    {
     "data": {
      "image/png": "[encoded data removed]",
      "text/plain": [
       "<Figure size 640x480 with 1 Axes>"
      ]
     },
     "metadata": {},
     "output_type": "display_data"
    },
    {
     "data": {
      "image/png": "[encoded data removed]",
      "text/plain": [
       "<Figure size 400x400 with 2 Axes>"
      ]
     },
     "metadata": {},
     "output_type": "display_data"
    }
   ],
   "source": [
    "plot_logreg_evaluation(\"Test\", final_lr, X_test, y_test)"
   ]
  }
 ],
 "metadata": {
  "kernelspec": {
   "display_name": ".venv",
   "language": "python",
   "name": "python3"
  },
  "language_info": {
   "codemirror_mode": {
    "name": "ipython",
    "version": 3
   },
   "file_extension": ".py",
   "mimetype": "text/x-python",
   "name": "python",
   "nbconvert_exporter": "python",
   "pygments_lexer": "ipython3",
   "version": "3.12.3"
  }
 },
 "nbformat": 4,
 "nbformat_minor": 5
}
